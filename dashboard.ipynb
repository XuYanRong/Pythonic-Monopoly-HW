{
 "cells": [
  {
   "cell_type": "markdown",
   "metadata": {},
   "source": [
    "# Toronto Dwellings Analysis Dashboard\n",
    "\n",
    "In this notebook, you will compile the visualizations from the previous analysis into functions to create a Panel dashboard."
   ]
  },
  {
   "cell_type": "code",
   "execution_count": 5,
   "metadata": {},
   "outputs": [],
   "source": [
    "# imports\n",
    "import panel as pn\n",
    "pn.extension('plotly')\n",
    "import plotly.express as px\n",
    "import pandas as pd\n",
    "import hvplot.pandas\n",
    "import matplotlib.pyplot as plt\n",
    "import os\n",
    "from pathlib import Path\n",
    "from dotenv import load_dotenv"
   ]
  },
  {
   "cell_type": "code",
   "execution_count": 6,
   "metadata": {},
   "outputs": [],
   "source": [
    "# Initialize the Panel Extensions (for Plotly)\n",
    "import panel as pn\n",
    "pn.extension(\"plotly\")"
   ]
  },
  {
   "cell_type": "code",
   "execution_count": 7,
   "metadata": {},
   "outputs": [],
   "source": [
    "# Read the Mapbox API key\n",
    "load_dotenv()\n",
    "map_box_api = os.getenv(\"mapbox\")\n",
    "px.set_mapbox_access_token(map_box_api)"
   ]
  },
  {
   "cell_type": "markdown",
   "metadata": {},
   "source": [
    "# Import Data"
   ]
  },
  {
   "cell_type": "code",
   "execution_count": 11,
   "metadata": {},
   "outputs": [],
   "source": [
    "# Import the CSVs to Pandas DataFrames\n",
    "file_path = Path(\"Data/toronto_neighbourhoods_census_data.csv\")\n",
    "to_data = pd.read_csv(file_path, index_col=\"year\")\n",
    "\n",
    "file_path = Path(\"Data/toronto_neighbourhoods_coordinates.csv\")\n",
    "df_neighbourhood_locations = pd.read_csv(file_path)"
   ]
  },
  {
   "cell_type": "markdown",
   "metadata": {},
   "source": [
    "- - -"
   ]
  },
  {
   "cell_type": "markdown",
   "metadata": {},
   "source": [
    "## Panel Visualizations\n",
    "\n",
    "In this section, you will copy the code for each plot type from your analysis notebook and place it into separate functions that Panel can use to create panes for the dashboard. \n",
    "\n",
    "These functions will convert the plot object to a Panel pane.\n",
    "\n",
    "Be sure to include any DataFrame transformation/manipulation code required along with the plotting code.\n",
    "\n",
    "Return a Panel pane object from each function that can be used to build the dashboard.\n",
    "\n",
    "Note: Remove any `.show()` lines from the code. We want to return the plots instead of showing them. The Panel dashboard will then display the plots."
   ]
  },
  {
   "cell_type": "markdown",
   "metadata": {},
   "source": [
    "### Global available data"
   ]
  },
  {
   "cell_type": "code",
   "execution_count": 13,
   "metadata": {},
   "outputs": [],
   "source": [
    "# Getting the data from the top 10 expensive neighbourhoods\n",
    "top_10_df = to_data.groupby(\"neighbourhood\").mean()\n",
    "top_10_df = top_10_df.sort_values(\"average_house_value\", ascending=False).head(10)\n",
    "top_10_df = top_10_df.reset_index()\n",
    "top_10_df\n",
    "\n",
    "# Calculate the mean number of dwelling types units per year\n",
    "avg_house_val = to_data[\"average_house_value\"].groupby([to_data.index]).mean()\n",
    "avg_house_val.head()\n",
    "# Calculate the average monthly shelter costs for owned and rented dwellings\n",
    "avg_shelter_owned = to_data[\"shelter_costs_owned\"].groupby([to_data.index]).mean()\n",
    "avg_shelter_rented = to_data[\"shelter_costs_rented\"].groupby([to_data.index]).mean()\n",
    "avg_shelter_owned_df = pd.DataFrame(avg_shelter_owned)\n",
    "avg_shelter_rented_df = pd.DataFrame(avg_shelter_rented)"
   ]
  },
  {
   "cell_type": "markdown",
   "metadata": {},
   "source": [
    "### Panel Visualization Functions"
   ]
  },
  {
   "cell_type": "code",
   "execution_count": 14,
   "metadata": {},
   "outputs": [],
   "source": [
    "# Define Panel visualization functions\n",
    "def neighbourhood_map():\n",
    "    \"\"\"Neighbourhood Map\"\"\"\n",
    "    mean_neighbourhoods = to_data.groupby(\"neighbourhood\").mean()\n",
    "    mean_neighbourhoods = mean_neighbourhoods.reset_index()\n",
    "    \n",
    "    top_10 = to_data.groupby(\"neighbourhood\").mean()\n",
    "    top_10 = top_10.sort_values(\"average_house_value\", ascending=False).head(10)\n",
    "    top_10 = top_10.reset_index()\n",
    "    values_and_locations_df = pd.concat([\n",
    "                                df_neighbourhood_locations,\n",
    "                                mean_neighbourhoods[\"average_house_value\"]\n",
    "                               ], axis=1).dropna()\n",
    "    values_and_locations_df.head()\n",
    "    \n",
    "    px.set_mapbox_access_token(mapbox_token)\n",
    "    \n",
    "    map = px.scatter_mapbox(\n",
    "        values_and_locations_df,\n",
    "        lat=\"lat\",\n",
    "        lon=\"lon\",\n",
    "        color_continuous_scale=px.colors.cyclical.IceFire,\n",
    "        size_max=15,\n",
    "        zoom=3,\n",
    "        width=1000,\n",
    "        hover_name=\"neighbourhood\",\n",
    "        title=\"Average Vales Per Neighbourhood in Toronto\",\n",
    ")\n",
    "\n",
    "    \n",
    "    plotly_panel = pn.pane.Plotly(map)\n",
    "    plotly_panel._updates = True\n",
    "    return plotly_panel\n",
    "     \n",
    "\n",
    "\n",
    "def create_bar_chart(data, title, xlabel, ylabel, color):\n",
    "    \"\"\"\n",
    "    Create a barplot based in the data argument.\n",
    "    \"\"\"\n",
    "    fig = data.hvplot.bar(title=title, xlabel=xlabel, ylabel=ylabel, rot=90, height=400, width=500, color=color)\n",
    "    return fig\n",
    "   \n",
    "\n",
    "def create_line_chart(data, title, xlabel, ylabel, color):\n",
    "    \"\"\"\n",
    "    Create a line chart based in the data argument.\n",
    "    \"\"\"\n",
    "    \n",
    "    # YOUR CODE HERE!\n",
    "\n",
    "def average_house_value():\n",
    "    \"\"\"Average house values per year.\"\"\"\n",
    "    \n",
    "    average_house_values = to_data.groupby('year').mean()\n",
    "    \n",
    "    average_house_value_per_year_plot = plt.figure()\n",
    "    min = average_house_values.min()['average_house_values']\n",
    "    max = average_house_values.max()['average_house_values']\n",
    "\n",
    "    average_house_values.plot.bar(ylim =(min-2000, max+2000),title=\"Average House Value per year in Toronto\", figsize=(12,8))\n",
    "\n",
    "\n",
    "    plt.close(average_house_value_per_year_plot)\n",
    "    \n",
    "    \n",
    "    return pn.pane.Matplotlib(average_house_value_per_year_plot)\n",
    "\n",
    "def average_value_by_neighbourhood():\n",
    "    \"\"\"Average house values by neighbourhood.\"\"\"\n",
    "    mean_neighbourhoods = to_data.groupby(\"neighbourhood\").mean()\n",
    "    mean_neighbourhoods = mean_neighbourhoods.reset_index()\n",
    "    mean_neighbourhoods.head()\n",
    "    \n",
    "\n",
    "def number_dwelling_types():\n",
    "    \"\"\"Number of dwelling types per year\"\"\"\n",
    "    dwelling_types = to_data.groupby(\"year\").sum()\n",
    "    dwelling_types.dropna()\n",
    "    \n",
    "\n",
    "def average_house_value_snapshot():\n",
    "    \"\"\"Average house value for all Toronto's neighbourhoods per year.\"\"\"\n",
    "    to_data_new = to_data.groupby([to_data.index, \"neighbourhood\"]).mean()\n",
    "    to_hv = to_data_new[\"average_house_value\"]\n",
    "    to_hv_df = pd.DataFrame(to_hv).reset_index()\n",
    "    to_hv_df.head()\n",
    "    \n",
    "\n",
    "def top_most_expensive_neighbourhoods():\n",
    "    \"\"\"Top 10 most expensive neighbourhoods.\"\"\"\n",
    "    top_10_df = to_data.groupby(\"neighbourhood\").mean()\n",
    "    top_10_df = top_10_df.sort_values(\"average_house_value\", ascending=False).head(10)\n",
    "    top_10_df = top_10_df.reset_index()\n",
    "    top_10_df\n",
    "    \n",
    "\n"
   ]
  },
  {
   "cell_type": "markdown",
   "metadata": {},
   "source": [
    "## Panel Dashboard\n",
    "\n",
    "In this section, you will combine all of the plots into a single dashboard view using Panel. Be creative with your dashboard design!"
   ]
  },
  {
   "cell_type": "code",
   "execution_count": 22,
   "metadata": {},
   "outputs": [
    {
     "ename": "SyntaxError",
     "evalue": "unexpected EOF while parsing (1708433386.py, line 22)",
     "output_type": "error",
     "traceback": [
      "\u001b[0;36m  File \u001b[0;32m\"/var/folders/wx/jm_q4v511fv0ysrbyz6jc9tw0000gn/T/ipykernel_92546/1708433386.py\"\u001b[0;36m, line \u001b[0;32m22\u001b[0m\n\u001b[0;31m    \u001b[0m\n\u001b[0m    ^\u001b[0m\n\u001b[0;31mSyntaxError\u001b[0m\u001b[0;31m:\u001b[0m unexpected EOF while parsing\n"
     ]
    }
   ],
   "source": [
    "# Create a Title for the Dashboard\n",
    "title = pn.pane.Markdown(\n",
    "    \"\"\"\n",
    "# Rental Analysis of Toronto from 2001 to 2016\n",
    "\"\"\",\n",
    "    width=800,\n",
    ")\n",
    "welcome = pn.pane.Markdown(\n",
    "    \"\"\"\n",
    "This dashboard presents a visual analysis of the Toronto rental market.\n",
    "\"\"\"\n",
    ")\n",
    "# Create a tab layout for the dashboard\n",
    "tabs = pn.Tabs(\n",
    "    (\"Welcome\", pn.Column(welcome, neighbourhood_map())),\n",
    "    (\"Yearly Market Analysis\", pn.Row(to_hv_df(),dwelling_types(),average_house_values()),\n",
    "    (\"Neighborhood Analysis\", pn.Column(top_10_df(), mean_neighbourhoods()),\n",
    "    (\n",
    "        \"Parallel Plots Analysis\",\n",
    "        pn.Column(parallel_coordinates(), parallel_categories(), width=960))\n",
    "\n",
    "\n"
   ]
  },
  {
   "cell_type": "markdown",
   "metadata": {},
   "source": [
    "## Serve the Panel Dashboard"
   ]
  },
  {
   "cell_type": "code",
   "execution_count": null,
   "metadata": {},
   "outputs": [],
   "source": [
    "dashboard.servable()"
   ]
  },
  {
   "cell_type": "markdown",
   "metadata": {},
   "source": [
    "# Debugging\n",
    "\n",
    "Note: Some of the Plotly express plots may not render in the notebook through the panel functions.\n",
    "\n",
    "However, you can test each plot by uncommenting the following code"
   ]
  },
  {
   "cell_type": "code",
   "execution_count": null,
   "metadata": {},
   "outputs": [],
   "source": [
    "# neighbourhood_map().show()"
   ]
  },
  {
   "cell_type": "code",
   "execution_count": null,
   "metadata": {},
   "outputs": [],
   "source": [
    "# create_bar_chart(data, title, xlabel, ylabel, color)\n",
    "\n",
    "# # Bar chart for 2001\n",
    "# create_bar_chart(df_dwelling_units.loc[2001], \"Dwelling Types in Toronto in 2001\", \"2001\", \"Dwelling Type Units\", \"red\")\n",
    "\n",
    "# # Bar chart for 2006\n",
    "# create_bar_chart(df_dwelling_units.loc[2006], \"Dwelling Types in Toronto in 2006\", \"2006\", \"Dwelling Type Units\", \"blue\")\n",
    "\n",
    "# # Bar chart for 2011\n",
    "# create_bar_chart(df_dwelling_units.loc[2011], \"Dwelling Types in Toronto in 2011\", \"2011\", \"Dwelling Type Units\", \"orange\")\n",
    "\n",
    "# # Bar chart for 2016\n",
    "# create_bar_chart(df_dwelling_units.loc[2016], \"Dwelling Types in Toronto in 2016\", \"2016\", \"Dwelling Type Units\", \"magenta\")"
   ]
  },
  {
   "cell_type": "code",
   "execution_count": null,
   "metadata": {},
   "outputs": [],
   "source": [
    "# create_line_chart(data, title, xlabel, ylabel, color)\n",
    "\n",
    "# # Line chart for owned dwellings\n",
    "# create_line_chart(df_avg_costs[\"shelter_costs_owned\"], \"Average Monthly Shelter Cost for Owned Dwellings in Toronto\", \"Year\", \"Avg Monthly Shelter Costs\", \"blue\")\n",
    "\n",
    "# # Line chart for rented dwellings\n",
    "# create_line_chart(df_avg_costs[\"shelter_costs_rented\"], \"Average Monthly Shelter Cost for Rented Dwellings in Toronto\", \"Year\", \"Avg Monthly Shelter Costs\", \"orange\")"
   ]
  },
  {
   "cell_type": "code",
   "execution_count": null,
   "metadata": {},
   "outputs": [],
   "source": [
    "# average_house_value()"
   ]
  },
  {
   "cell_type": "code",
   "execution_count": null,
   "metadata": {},
   "outputs": [],
   "source": [
    "# average_value_by_neighbourhood()"
   ]
  },
  {
   "cell_type": "code",
   "execution_count": null,
   "metadata": {},
   "outputs": [],
   "source": [
    "# number_dwelling_types()"
   ]
  },
  {
   "cell_type": "code",
   "execution_count": null,
   "metadata": {},
   "outputs": [],
   "source": [
    "# average_house_value_snapshot()"
   ]
  },
  {
   "cell_type": "code",
   "execution_count": null,
   "metadata": {},
   "outputs": [],
   "source": [
    "# top_most_expensive_neighbourhoods()"
   ]
  },
  {
   "cell_type": "code",
   "execution_count": null,
   "metadata": {},
   "outputs": [],
   "source": [
    "# sunburts_cost_analysis()"
   ]
  }
 ],
 "metadata": {
  "file_extension": ".py",
  "kernelspec": {
   "display_name": "Python [conda env:pyvizenv] *",
   "language": "python",
   "name": "conda-env-pyvizenv-py"
  },
  "language_info": {
   "codemirror_mode": {
    "name": "ipython",
    "version": 3
   },
   "file_extension": ".py",
   "mimetype": "text/x-python",
   "name": "python",
   "nbconvert_exporter": "python",
   "pygments_lexer": "ipython3",
   "version": "3.7.11"
  },
  "mimetype": "text/x-python",
  "name": "python",
  "npconvert_exporter": "python",
  "pygments_lexer": "ipython3",
  "version": 3
 },
 "nbformat": 4,
 "nbformat_minor": 4
}
